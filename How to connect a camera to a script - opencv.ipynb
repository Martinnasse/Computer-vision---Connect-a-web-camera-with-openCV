{
 "cells": [
  {
   "cell_type": "markdown",
   "metadata": {},
   "source": [
    "# How to connect a web camera with a python script with openCV"
   ]
  },
  {
   "cell_type": "markdown",
   "metadata": {},
   "source": [
    "#### NASSE A. Martin"
   ]
  },
  {
   "cell_type": "markdown",
   "metadata": {},
   "source": [
    "#   \n",
    "#   \n",
    "### 1. Import packages\n",
    "\n"
   ]
  },
  {
   "cell_type": "markdown",
   "metadata": {},
   "source": [
    "##### We will just need a opencv library\n"
   ]
  },
  {
   "cell_type": "code",
   "execution_count": 13,
   "metadata": {},
   "outputs": [],
   "source": [
    "import cv2"
   ]
  },
  {
   "cell_type": "markdown",
   "metadata": {},
   "source": [
    "#   \n",
    "#   \n",
    "### 2. Connect openCV with your camera"
   ]
  },
  {
   "cell_type": "code",
   "execution_count": 14,
   "metadata": {},
   "outputs": [],
   "source": [
    "# Here we connect the script with the default camera with the option 0\n",
    "connexion = cv2.VideoCapture(0)"
   ]
  },
  {
   "cell_type": "markdown",
   "metadata": {},
   "source": [
    "#   \n",
    "#   \n",
    "### 3. Show the camera screen and the streaming video capture"
   ]
  },
  {
   "cell_type": "code",
   "execution_count": 15,
   "metadata": {},
   "outputs": [],
   "source": [
    "video_writer = cv2.VideoWriter('my_video.mp4', # Name of the video\n",
    "                         cv2.VideoWriter_fourcc(*'XVID'), #CODECs: *'VIDX' for windows users otherwise use *'XVID'\n",
    "                         25, # Framerate of the created video stream\n",
    "                         (640, 480) # Video dimensions\n",
    "                        )\n",
    "\n",
    "while 1:\n",
    "    # Get images from the camera\n",
    "    _, flow = connexion.read()\n",
    "    \n",
    "    # Display and save the video\n",
    "    cv2.imshow('frame',flow)\n",
    "    video_writer.write(flow)\n",
    "    \n",
    "    # Stop the camera with the \"q\" button\n",
    "    if cv2.waitKey(3) & 0xFF == ord('q'):\n",
    "        break\n",
    "\n",
    "        \n",
    "connexion.release()\n",
    "video_writer.release()\n",
    "cv2.destroyAllWindows()"
   ]
  },
  {
   "cell_type": "markdown",
   "metadata": {},
   "source": [
    "#   \n",
    "#   \n",
    "### 4. Stop the camera\n",
    "###### To stop the camera just press on the button \"q\""
   ]
  }
 ],
 "metadata": {
  "kernelspec": {
   "display_name": "Python 3",
   "language": "python",
   "name": "python3"
  },
  "language_info": {
   "codemirror_mode": {
    "name": "ipython",
    "version": 3
   },
   "file_extension": ".py",
   "mimetype": "text/x-python",
   "name": "python",
   "nbconvert_exporter": "python",
   "pygments_lexer": "ipython3",
   "version": "3.6.6"
  }
 },
 "nbformat": 4,
 "nbformat_minor": 2
}
